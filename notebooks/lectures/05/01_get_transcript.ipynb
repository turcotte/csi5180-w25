{
  "cells": [
    {
      "cell_type": "markdown",
      "id": "0c372c9b-d93e-49a5-8093-34e4885effa0",
      "metadata": {},
      "source": [
        "# Essential Bioinformatics - Get Transcript\n",
        "\n",
        "CSI 5180 - Machine Learning for Bioinformatics\n",
        "\n",
        "Marcel Turcotte (School of Electrical Engineering and Computer Science,\n",
        "University of Ottawa)  \n",
        "Version: Jan 20, 2025 15:16\n",
        "\n",
        "# Learning Objectives\n",
        "\n",
        "-   **Develop** a basic understanding of Jupyter Notebooks and their\n",
        "    applications in computational research.\n",
        "-   **Implement** code execution within Jupyter Notebooks by utilizing\n",
        "    Google Colab as a cloud-based platform.\n",
        "-   **Adapt** existing Jupyter Notebooks by making minor modifications\n",
        "    and subsequently executing the revised code cells within the Google\n",
        "    Colab environment.\n",
        "\n",
        "# Quick Start Guide\n",
        "\n",
        "## Interactive Exploration Without Installation\n",
        "\n",
        "This notebook is designed for seamless online use, eliminating the need\n",
        "for local installation. It is important to note that the code detailed\n",
        "in this notebook requires the\n",
        "[requests](https://pypi.org/project/requests/) library, which is\n",
        "conveniently pre-installed on [Google\n",
        "Colab](https://colab.research.google.com). To execute the code on Colab,\n",
        "a Google account is necessary.\n",
        "\n",
        "-   Launch the notebook on Google Colab by clicking the following link:\n",
        "    [<img src=\"https://colab.research.google.com/assets/colab-badge.svg\" alt=\"Open In Colab\"/>](https://colab.research.google.com/github/turcotte/csi5180-w25/blob/main/notebooks/lectures/05/01_get_transcript.ipynb)\n",
        "\n",
        "If you are accessing this document on the course website, you are\n",
        "viewing an HTML-rendered version of a Jupyter Notebook (not the Jupyter\n",
        "Notebook itself). To download the Jupyter Notebook directly, navigate to\n",
        "the table of contents, usually located in the upper right corner of your\n",
        "browser window, or download it directly via this link:\n",
        "[01_get_transcript.ipynb](01_get_transcript.ipynb).\n",
        "\n",
        "## View the Notebook Without Code Execution\n",
        "\n",
        "For a static view of the notebook without executing any code, you can\n",
        "access it via nbviewer:\n",
        "[<img src=\"https://raw.githubusercontent.com/jupyter/design/master/logos/Badges/nbviewer_badge.svg\" alt=\"Open In nbviewer\"/>](https://nbviewer.jupyter.org/github/turcotte/csi5180-w25/blob/main/notebooks/lectures/05/01_get_transcript.ipynb)\n",
        "\n",
        "# Concepts\n",
        "\n",
        "A Jupyter notebook serves as an interactive computational platform that\n",
        "integrates code execution, textual content, and multimedia into a\n",
        "unified document. The primary components of a Jupyter notebook are as\n",
        "follows:\n",
        "\n",
        "## Cells\n",
        "\n",
        "-   **Code Cells:** These cells are designed to hold executable code.\n",
        "    While Python is the most commonly used language, other languages\n",
        "    such as R, Julia, and Scala are also supported. The code within\n",
        "    these cells is executed via the kernel, and the resulting output is\n",
        "    displayed immediately below the cell.\n",
        "-   **Markdown Cells:** These cells are used for text formatted in\n",
        "    Markdown. They facilitate the inclusion of explanations, headers,\n",
        "    bullet points, hyperlinks, images, and various other text formats\n",
        "    within the notebook.\n",
        "-   **Raw Cells:** These cells contain text that is neither executed nor\n",
        "    rendered. They are particularly useful for embedding code snippets\n",
        "    or unformatted text that should remain unchanged.\n",
        "\n",
        "## Execution\n",
        "\n",
        "-   **Standard Output:** The results of code execution, encompassing\n",
        "    text, tables, and plots, are presented directly below the\n",
        "    corresponding code cell.\n",
        "-   **Rich Media Output:** Jupyter notebooks are capable of delivering\n",
        "    rich media output, including HTML, images, videos, LaTeX, and\n",
        "    interactive widgets, such as those provided by Plotly and Bokeh.\n",
        "\n",
        "# Example\n",
        "\n",
        "To ensure this example is self-contained, we will utilize the [Ensembl\n",
        "REST API](https://github.com/Ensembl/ensembl-rest/wiki).\n",
        "\n",
        "> [Ensembl](https://useast.ensembl.org/index.html) serves as a genome\n",
        "> browser for vertebrate genomes, facilitating research in comparative\n",
        "> genomics, evolutionary biology, sequence variation, and\n",
        "> transcriptional regulation. It provides gene annotations, computes\n",
        "> multiple alignments, predicts regulatory functions, and aggregates\n",
        "> disease-related data. Ensembl’s suite of tools includes BLAST, BLAT,\n",
        "> BioMart, and the Variant Effect Predictor (VEP), applicable to all\n",
        "> supported species.\n",
        "\n",
        "We will employ the Python [requests](https://pypi.org/project/requests/)\n",
        "library to interact with the API. Let’s begin by importing this library."
      ]
    },
    {
      "cell_type": "code",
      "execution_count": 1,
      "id": "6d3c4180",
      "metadata": {},
      "outputs": [],
      "source": [
        "import requests"
      ]
    },
    {
      "cell_type": "markdown",
      "id": "aeaa5114-1fe3-4c73-8487-80d0092265b0",
      "metadata": {},
      "source": [
        "We will define a function that leverages the Ensembl REST API to\n",
        "retrieve the sequence of a specified transcript."
      ]
    },
    {
      "cell_type": "code",
      "execution_count": 2,
      "id": "0ba840c0",
      "metadata": {},
      "outputs": [],
      "source": [
        "def get_transcript_info(transcript_id):\n",
        "\n",
        "    \"\"\"Fetches information about a given transcript from the Ensembl REST API.\"\"\"\n",
        "\n",
        "    server = \"https://rest.ensembl.org\"\n",
        "    endpoint = f\"/lookup/id/{transcript_id}\"\n",
        "    headers = {\"Content-Type\": \"application/json\"}\n",
        "    \n",
        "    response = requests.get(server + endpoint, headers=headers)\n",
        "    \n",
        "    if not response.ok:\n",
        "        response.raise_for_status()\n",
        "    \n",
        "    return response.json()"
      ]
    },
    {
      "cell_type": "markdown",
      "id": "ef0f2f13-4855-406b-b3d2-aa91d20eaacc",
      "metadata": {},
      "source": [
        "The newly defined function is now being executed."
      ]
    },
    {
      "cell_type": "code",
      "execution_count": 3,
      "id": "0ebbf4fa",
      "metadata": {},
      "outputs": [],
      "source": [
        "# A variable to store the ID of the transcript of interest\n",
        "transcript_id = \"ENST00000288602\"\n",
        "    \n",
        "# Fetch and print transcript information\n",
        "transcript_info = get_transcript_info(transcript_id)\n",
        "print(f\"Transcript ID: {transcript_info['id']}\")\n",
        "print(f\"Gene Name: {transcript_info.get('display_name', 'N/A')}\")\n",
        "print(f\"Transcript Name: {transcript_info.get('id', 'N/A')}\")\n",
        "print(f\"Biotype: {transcript_info.get('biotype', 'N/A')}\")\n",
        "print(f\"Species: {transcript_info.get('species', 'N/A')}\")\n",
        "print()"
      ]
    },
    {
      "cell_type": "markdown",
      "id": "53e04af9-18e7-402a-8c48-564a9257b73a",
      "metadata": {},
      "source": [
        "The results of the execution have been incorporated into the notebook."
      ]
    },
    {
      "cell_type": "code",
      "execution_count": 4,
      "id": "3a44e4d6",
      "metadata": {},
      "outputs": [],
      "source": [
        "def get_cdna_sequence(transcript_id):\n",
        "\n",
        "    \"\"\"Fetches the cDNA sequence of a given transcript from the Ensembl REST API.\"\"\"\n",
        "\n",
        "    server = \"https://rest.ensembl.org\"\n",
        "    endpoint = f\"/sequence/id/{transcript_id}\"\n",
        "    headers = {\"Content-Type\": \"application/json\"}\n",
        "    \n",
        "    response = requests.get(server + endpoint, headers=headers, params={\"type\": \"cdna\"})\n",
        "    \n",
        "    if not response.ok:\n",
        "        response.raise_for_status()\n",
        "    \n",
        "    data = response.json()\n",
        "    return data['seq']"
      ]
    },
    {
      "cell_type": "markdown",
      "id": "269d66ce-ea34-4e9a-9ad5-712b6fe0ba5d",
      "metadata": {},
      "source": [
        "Executing the function `get_cdna_sequence`. Libraries (e.g. `requests`),\n",
        "functions (e.g. `get_cdna_sequence`), and variables\n",
        "(e.g. `transcript_id`) that were imported or defined in **previously**\n",
        "executed cells are readily accessible for the current execution cell."
      ]
    },
    {
      "cell_type": "code",
      "execution_count": 5,
      "id": "ef76097c",
      "metadata": {},
      "outputs": [],
      "source": [
        "# Fetch cDNA sequence and find start codons\n",
        "cdna_sequence = get_cdna_sequence(transcript_id)\n",
        "print(cdna_sequence)"
      ]
    },
    {
      "cell_type": "markdown",
      "id": "9784ec79-9159-4216-8d0c-9240292948fd",
      "metadata": {},
      "source": [
        "We are now focused on identifying all potential start codons."
      ]
    },
    {
      "cell_type": "code",
      "execution_count": 6,
      "id": "d0b6fbf3",
      "metadata": {},
      "outputs": [],
      "source": [
        "def find_start_codons(sequence):\n",
        "    \"\"\"Finds and returns the positions of all start codons (ATG) in the sequence.\"\"\"\n",
        "    start_codon = \"ATG\"\n",
        "    start_codon_positions = []\n",
        "\n",
        "    for i in range(len(sequence) - 2):\n",
        "        if sequence[i:i+3] == start_codon:\n",
        "            start_codon_positions.append(i + 1)  # +1 to convert to 1-based indexing\n",
        "\n",
        "    return start_codon_positions"
      ]
    },
    {
      "cell_type": "markdown",
      "id": "26c334ef-e262-4e8e-8457-c52476e9d3e0",
      "metadata": {},
      "source": [
        "Executing the function `find_start_codons`."
      ]
    },
    {
      "cell_type": "code",
      "execution_count": 7,
      "id": "c9887281",
      "metadata": {},
      "outputs": [],
      "source": [
        "# Find start codons\n",
        "\n",
        "start_codon_positions = find_start_codons(cdna_sequence)\n",
        "    \n",
        "print(f\"Start codon positions in the cDNA sequence of {transcript_id}:\")\n",
        "print(start_codon_positions)"
      ]
    },
    {
      "cell_type": "markdown",
      "id": "8fa4461b-9800-4813-a007-86378519feea",
      "metadata": {},
      "source": [
        "To illustrate the application of Jupyter Notebooks for data\n",
        "visualization, consider a straightforward example. Notably, Jupyter\n",
        "Notebooks are highly effective tools for conducting exploratory data\n",
        "analysis."
      ]
    },
    {
      "cell_type": "code",
      "execution_count": 8,
      "id": "04084bc6",
      "metadata": {},
      "outputs": [],
      "source": [
        "import matplotlib.pyplot as plt\n",
        "from collections import Counter\n",
        "\n",
        "def plot_nucleotide_histogram(sequence):\n",
        "\n",
        "    \"\"\"Plots a histogram of nucleotide frequencies in the sequence.\"\"\"\n",
        "\n",
        "    nucleotide_counts = Counter(sequence)\n",
        "    nucleotides = ['A', 'T', 'C', 'G']\n",
        "    counts = [nucleotide_counts[nucleotide] for nucleotide in nucleotides]\n",
        "\n",
        "    plt.bar(nucleotides, counts, color=['blue', 'red', 'green', 'purple'])\n",
        "    plt.title('Nucleotide Frequency Histogram')\n",
        "    plt.xlabel('Nucleotide')\n",
        "    plt.ylabel('Frequency')\n",
        "    plt.show()\n",
        "\n",
        "# Plot nucleotide frequency histogram\n",
        "plot_nucleotide_histogram(cdna_sequence)"
      ]
    },
    {
      "cell_type": "markdown",
      "id": "da366946-1e5b-4c92-90c3-74368c3797a0",
      "metadata": {},
      "source": [
        "In the previous example, the `plot_nucleotide_histogram` function is\n",
        "invoked within the same cell where it is defined. This setup results in\n",
        "the redefinition of the function each time it is executed. Furthermore,\n",
        "any modification to the function necessitates re-execution of the cell,\n",
        "which automatically triggers the function call. To enhance clarity and\n",
        "maintainability, I advocate for separating function definition from\n",
        "invocation, as demonstrated earlier. This separation not only improves\n",
        "code readability but also facilitates iterative development and\n",
        "debugging.\n",
        "\n",
        "# Exercise\n",
        "\n",
        "-   Write function that identifies the first open reading frame."
      ]
    }
  ],
  "metadata": {
    "kernelspec": {
      "display_name": "Python 3 (ipykernel)",
      "language": "python",
      "name": "python3",
      "path": "/Users/turcotte/opt/micromamba/envs/ai/share/jupyter/kernels/python3"
    }
  },
  "nbformat": 4,
  "nbformat_minor": 5
}
