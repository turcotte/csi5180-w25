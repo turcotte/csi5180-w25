{
 "cells": [
  {
   "cell_type": "markdown",
   "id": "7656e40f-f68b-434d-b918-183cb83d8fee",
   "metadata": {},
   "source": [
    "# Essential Bioinformatics - Interactive 3D viewer\n",
    "\n",
    "CSI 5180 - Machine Learning for Bioinformatics\n",
    "\n",
    "Marcel Turcotte (School of Electrical Engineering and Computer Science,\n",
    "University of Ottawa)  \n",
    "2025-01-20\n",
    "\n",
    "# Learning objective\n",
    "\n",
    "-   **Illustrate** the process of identifying and resolving missing\n",
    "    library issues in Google Colab.\n",
    "\n",
    "[<img src=\"https://colab.research.google.com/assets/colab-badge.svg\" alt=\"Open In Colab\"/>](https://colab.research.google.com/github/turcotte/csi5180-w25/blob/main/notebooks/lectures/05/02_interactive_3d_viewer.ipynb)\n",
    "\n",
    "[<img src=\"https://raw.githubusercontent.com/jupyter/design/master/logos/Badges/nbviewer_badge.svg\" alt=\"Open In nbviewer\"/>](https://nbviewer.jupyter.org/github/turcotte/csi5180-w25/blob/main/notebooks/lectures/05/02_interactive_3d_viewer.ipynb)\n",
    "\n",
    "# Example\n",
    "\n",
    "## Missing Library\n",
    "\n",
    "The following code, when executed in [Google\n",
    "Colab](https://colab.research.google.com), is expected to generate an\n",
    "error due to the absence of the required library in the environment."
   ]
  },
  {
   "cell_type": "code",
   "execution_count": null,
   "id": "4d526e7a",
   "metadata": {},
   "outputs": [],
   "source": [
    "import py3Dmol"
   ]
  },
  {
   "cell_type": "markdown",
   "id": "50884028-db81-43f5-af27-60037112e43f",
   "metadata": {},
   "source": [
    "Here is the expected message.\n",
    "\n",
    "``` plaintext\n",
    "---------------------------------------------------------------------------\n",
    "ModuleNotFoundError                       Traceback (most recent call last)\n",
    "<ipython-input-1-4554d9dd9fa2> in <cell line: 0>()\n",
    "----> 1 import py3Dmol\n",
    "\n",
    "ModuleNotFoundError: No module named 'py3Dmol'\n",
    "```\n",
    "\n",
    "This issue can be resolved by adding the following line of code before\n",
    "the first `import` statement. Try it!\n",
    "\n",
    "``` bash\n",
    "! pip install py3Dmol\n",
    "```\n",
    "\n",
    "In Jupyter Notebooks, the `!` symbol is used to execute shell commands\n",
    "directly within the notebook environment. When utilizing Google Colab,\n",
    "these notebooks operate within a virtual machine running a Unix-based\n",
    "system.\n",
    "\n",
    "To validate the claim, create an executable cell and run the following\n",
    "commands.\n",
    "\n",
    "-   `uname`\n",
    "-   `uname -a`\n",
    "-   `ls`\n",
    "-   `pwd`\n",
    "-   `ls /`\n",
    "-   `cat /proc/cpuinfo`\n",
    "-   `ls sample_data`\n",
    "-   `cat sample_data/README.md`\n",
    "\n",
    "We had the option to identify the missing library and ensure its\n",
    "execution automatically. However, I wanted to have this discussion\n",
    "beforehand.\n",
    "\n",
    "To detect and resolve the issue of a missing library, we can implement a\n",
    "method to enforce its installation. By commenting out the initial import\n",
    "statement and utilizing the subsequent import, the notebook will\n",
    "successfully load in Google Colab."
   ]
  },
  {
   "cell_type": "code",
   "execution_count": null,
   "id": "44996285",
   "metadata": {},
   "outputs": [],
   "source": [
    "try:\n",
    "  import py3Dmol\n",
    "except:\n",
    "  ! pip install py3Dmol\n",
    "  import py3Dmol"
   ]
  },
  {
   "cell_type": "markdown",
   "id": "133ab6f4-70dd-4ad6-9393-cacb58b8efbe",
   "metadata": {},
   "source": [
    "## Retrieving Data\n",
    "\n",
    "In our initial notebook, we utilized the Ensembl REST API to retrieve\n",
    "relevant data. In the following section, we leverage the capabilities of\n",
    "[py3Dmol](https://pypi.org/project/py3Dmol/) to facilitate direct data\n",
    "retrieval from the [RCSB Protein Data Bank (PDB)](https://www.rcsb.org)."
   ]
  },
  {
   "cell_type": "code",
   "execution_count": null,
   "id": "4b1ab6b9",
   "metadata": {},
   "outputs": [],
   "source": [
    "view = py3Dmol.view(query='pdb:1hvr')\n",
    "view.setStyle({'cartoon':{'color':'spectrum'}})\n",
    "view"
   ]
  },
  {
   "cell_type": "markdown",
   "id": "2fa369f3-1a06-4e59-8182-3e5fdc3d93f2",
   "metadata": {},
   "source": [
    "Given that our notebook is executed in a Unix environment on Google\n",
    "Colab, we could alternatively utilize Unix commands, such as `wget`, to\n",
    "download the file and subsequently employ the `unzip` command to\n",
    "decompress it.\n",
    "\n",
    "When utilizing Google Colab, it is crucial to understand that all files\n",
    "stored during a session will be lost upon its termination. To mitigate\n",
    "this, you can integrate your personal Google Drive with the session,\n",
    "though this approach entails specific security considerations,\n",
    "particularly when employed for academic assignments. Nonetheless,\n",
    "downloading data, as demonstrated below, is generally a straightforward\n",
    "process."
   ]
  },
  {
   "cell_type": "code",
   "execution_count": null,
   "id": "faaad1d4",
   "metadata": {},
   "outputs": [],
   "source": [
    "! wget http://www.rcsb.org/pdb/files/5RH2.pdb.gz \n",
    "! gunzip -f 5RH2.pdb.gz"
   ]
  },
  {
   "cell_type": "markdown",
   "id": "f9eb2cef-c1b9-4317-8a33-349842d0211a",
   "metadata": {},
   "source": [
    "We are now able to visualize the contents of the file."
   ]
  },
  {
   "cell_type": "code",
   "execution_count": null,
   "id": "920d20b2",
   "metadata": {},
   "outputs": [],
   "source": [
    "view = py3Dmol.view()\n",
    "view.addModel(open('5RH2.pdb', 'r').read(),'pdb')\n",
    "view.setBackgroundColor('white')\n",
    "view.setStyle({'chain':'A'}, {'cartoon': {'color':'purple'}})\n",
    "view.addStyle({'resn':'UH7'}, {'stick': {'colorscheme':'yellowCarbon'}})\n",
    "view.addStyle({'within':{'distance':'5', 'sel':{'resn':'UH7'}}}, {'stick': {}})\n",
    "view.zoomTo()\n",
    "view.show()"
   ]
  },
  {
   "cell_type": "markdown",
   "id": "da32d545-cfed-4cdb-8a0a-0a7327a41bb1",
   "metadata": {},
   "source": [
    "# References\n",
    "\n",
    "-   Based on\n",
    "    [py3DMol.ipynb](https://colab.research.google.com/github/CCBatIIT/modelingworkshop/blob/main/labs/1-1/py3DMol.ipynb)\n",
    "    by [CCBatIIT](https://github.com/CCBatIIT). Visited on 2025-01-20."
   ]
  }
 ],
 "metadata": {
  "kernelspec": {
   "display_name": "Python 3 (ipykernel)",
   "language": "python",
   "name": "python3"
  },
  "language_info": {
   "codemirror_mode": {
    "name": "ipython",
    "version": 3
   },
   "file_extension": ".py",
   "mimetype": "text/x-python",
   "name": "python",
   "nbconvert_exporter": "python",
   "pygments_lexer": "ipython3",
   "version": "3.10.16"
  }
 },
 "nbformat": 4,
 "nbformat_minor": 5
}
