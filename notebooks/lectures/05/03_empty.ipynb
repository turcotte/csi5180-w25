{
  "cells": [
    {
      "cell_type": "markdown",
      "metadata": {},
      "source": [
        "# Essential Bioinformatics - Empty Jupyter Notebook\n",
        "\n",
        "CSI 5180 - Machine Learning for Bioinformatics\n",
        "\n",
        "Marcel Turcotte (School of Electrical Engineering and Computer Science,\n",
        "University of Ottawa)  \n",
        "2025-01-20"
      ],
      "id": "efe539e6-f9da-48cf-b9af-0cb9e8b6c6b6"
    }
  ],
  "nbformat": 4,
  "nbformat_minor": 5,
  "metadata": {
    "kernelspec": {
      "display_name": "Python 3",
      "language": "python",
      "name": "python3"
    }
  }
}